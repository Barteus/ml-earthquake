{
 "cells": [
  {
   "cell_type": "code",
   "execution_count": 2,
   "metadata": {},
   "outputs": [],
   "source": [
    "import pandas as pd\n",
    "import numpy as np\n",
    "import seaborn as sns\n",
    "import matplotlib.pyplot as plt\n",
    "\n",
    "import sys\n",
    "pd.set_option('display.max_columns', 500)\n",
    "pd.set_option('display.width', 1000)\n",
    "np.set_printoptions(threshold=sys.maxsize)\n",
    "\n",
    "%matplotlib inline "
   ]
  },
  {
   "cell_type": "code",
   "execution_count": 3,
   "metadata": {},
   "outputs": [],
   "source": [
    "train_values = pd.read_csv('data/train_values.csv', index_col='building_id')\n",
    "train_labels = pd.read_csv('data/train_labels.csv', index_col='building_id')\n",
    "# train = train_values.merge(train_labels, left_index=True, right_index=True)\n",
    "# train.sort_index(inplace=True)\n",
    "train_labels.sort_index(inplace=True)\n",
    "train_values.sort_index(inplace=True)"
   ]
  },
  {
   "cell_type": "code",
   "execution_count": 4,
   "metadata": {},
   "outputs": [
    {
     "data": {
      "text/html": [
       "<div>\n",
       "<style scoped>\n",
       "    .dataframe tbody tr th:only-of-type {\n",
       "        vertical-align: middle;\n",
       "    }\n",
       "\n",
       "    .dataframe tbody tr th {\n",
       "        vertical-align: top;\n",
       "    }\n",
       "\n",
       "    .dataframe thead th {\n",
       "        text-align: right;\n",
       "    }\n",
       "</style>\n",
       "<table border=\"1\" class=\"dataframe\">\n",
       "  <thead>\n",
       "    <tr style=\"text-align: right;\">\n",
       "      <th></th>\n",
       "      <th>geo_level_1_id</th>\n",
       "      <th>geo_level_2_id</th>\n",
       "      <th>geo_level_3_id</th>\n",
       "      <th>count_floors_pre_eq</th>\n",
       "      <th>age</th>\n",
       "      <th>area_percentage</th>\n",
       "      <th>height_percentage</th>\n",
       "      <th>land_surface_condition</th>\n",
       "      <th>foundation_type</th>\n",
       "      <th>roof_type</th>\n",
       "      <th>ground_floor_type</th>\n",
       "      <th>other_floor_type</th>\n",
       "      <th>position</th>\n",
       "      <th>plan_configuration</th>\n",
       "      <th>has_superstructure_adobe_mud</th>\n",
       "      <th>has_superstructure_mud_mortar_stone</th>\n",
       "      <th>has_superstructure_stone_flag</th>\n",
       "      <th>has_superstructure_cement_mortar_stone</th>\n",
       "      <th>has_superstructure_mud_mortar_brick</th>\n",
       "      <th>has_superstructure_cement_mortar_brick</th>\n",
       "      <th>has_superstructure_timber</th>\n",
       "      <th>has_superstructure_bamboo</th>\n",
       "      <th>has_superstructure_rc_non_engineered</th>\n",
       "      <th>has_superstructure_rc_engineered</th>\n",
       "      <th>has_superstructure_other</th>\n",
       "      <th>legal_ownership_status</th>\n",
       "      <th>count_families</th>\n",
       "      <th>has_secondary_use</th>\n",
       "      <th>has_secondary_use_agriculture</th>\n",
       "      <th>has_secondary_use_hotel</th>\n",
       "      <th>has_secondary_use_rental</th>\n",
       "      <th>has_secondary_use_institution</th>\n",
       "      <th>has_secondary_use_school</th>\n",
       "      <th>has_secondary_use_industry</th>\n",
       "      <th>has_secondary_use_health_post</th>\n",
       "      <th>has_secondary_use_gov_office</th>\n",
       "      <th>has_secondary_use_use_police</th>\n",
       "      <th>has_secondary_use_other</th>\n",
       "    </tr>\n",
       "    <tr>\n",
       "      <th>building_id</th>\n",
       "      <th></th>\n",
       "      <th></th>\n",
       "      <th></th>\n",
       "      <th></th>\n",
       "      <th></th>\n",
       "      <th></th>\n",
       "      <th></th>\n",
       "      <th></th>\n",
       "      <th></th>\n",
       "      <th></th>\n",
       "      <th></th>\n",
       "      <th></th>\n",
       "      <th></th>\n",
       "      <th></th>\n",
       "      <th></th>\n",
       "      <th></th>\n",
       "      <th></th>\n",
       "      <th></th>\n",
       "      <th></th>\n",
       "      <th></th>\n",
       "      <th></th>\n",
       "      <th></th>\n",
       "      <th></th>\n",
       "      <th></th>\n",
       "      <th></th>\n",
       "      <th></th>\n",
       "      <th></th>\n",
       "      <th></th>\n",
       "      <th></th>\n",
       "      <th></th>\n",
       "      <th></th>\n",
       "      <th></th>\n",
       "      <th></th>\n",
       "      <th></th>\n",
       "      <th></th>\n",
       "      <th></th>\n",
       "      <th></th>\n",
       "      <th></th>\n",
       "    </tr>\n",
       "  </thead>\n",
       "  <tbody>\n",
       "    <tr>\n",
       "      <th>4</th>\n",
       "      <td>30</td>\n",
       "      <td>266</td>\n",
       "      <td>1224</td>\n",
       "      <td>1</td>\n",
       "      <td>25</td>\n",
       "      <td>5</td>\n",
       "      <td>2</td>\n",
       "      <td>t</td>\n",
       "      <td>r</td>\n",
       "      <td>n</td>\n",
       "      <td>f</td>\n",
       "      <td>j</td>\n",
       "      <td>s</td>\n",
       "      <td>d</td>\n",
       "      <td>0</td>\n",
       "      <td>1</td>\n",
       "      <td>0</td>\n",
       "      <td>0</td>\n",
       "      <td>0</td>\n",
       "      <td>0</td>\n",
       "      <td>0</td>\n",
       "      <td>0</td>\n",
       "      <td>0</td>\n",
       "      <td>0</td>\n",
       "      <td>0</td>\n",
       "      <td>v</td>\n",
       "      <td>0</td>\n",
       "      <td>0</td>\n",
       "      <td>0</td>\n",
       "      <td>0</td>\n",
       "      <td>0</td>\n",
       "      <td>0</td>\n",
       "      <td>0</td>\n",
       "      <td>0</td>\n",
       "      <td>0</td>\n",
       "      <td>0</td>\n",
       "      <td>0</td>\n",
       "      <td>0</td>\n",
       "    </tr>\n",
       "    <tr>\n",
       "      <th>8</th>\n",
       "      <td>17</td>\n",
       "      <td>409</td>\n",
       "      <td>12182</td>\n",
       "      <td>2</td>\n",
       "      <td>0</td>\n",
       "      <td>13</td>\n",
       "      <td>7</td>\n",
       "      <td>t</td>\n",
       "      <td>r</td>\n",
       "      <td>n</td>\n",
       "      <td>f</td>\n",
       "      <td>q</td>\n",
       "      <td>s</td>\n",
       "      <td>d</td>\n",
       "      <td>0</td>\n",
       "      <td>1</td>\n",
       "      <td>0</td>\n",
       "      <td>0</td>\n",
       "      <td>0</td>\n",
       "      <td>0</td>\n",
       "      <td>0</td>\n",
       "      <td>0</td>\n",
       "      <td>0</td>\n",
       "      <td>0</td>\n",
       "      <td>0</td>\n",
       "      <td>v</td>\n",
       "      <td>1</td>\n",
       "      <td>0</td>\n",
       "      <td>0</td>\n",
       "      <td>0</td>\n",
       "      <td>0</td>\n",
       "      <td>0</td>\n",
       "      <td>0</td>\n",
       "      <td>0</td>\n",
       "      <td>0</td>\n",
       "      <td>0</td>\n",
       "      <td>0</td>\n",
       "      <td>0</td>\n",
       "    </tr>\n",
       "    <tr>\n",
       "      <th>12</th>\n",
       "      <td>17</td>\n",
       "      <td>716</td>\n",
       "      <td>7056</td>\n",
       "      <td>2</td>\n",
       "      <td>5</td>\n",
       "      <td>12</td>\n",
       "      <td>6</td>\n",
       "      <td>o</td>\n",
       "      <td>r</td>\n",
       "      <td>q</td>\n",
       "      <td>f</td>\n",
       "      <td>q</td>\n",
       "      <td>s</td>\n",
       "      <td>d</td>\n",
       "      <td>0</td>\n",
       "      <td>1</td>\n",
       "      <td>0</td>\n",
       "      <td>0</td>\n",
       "      <td>0</td>\n",
       "      <td>0</td>\n",
       "      <td>0</td>\n",
       "      <td>0</td>\n",
       "      <td>0</td>\n",
       "      <td>0</td>\n",
       "      <td>0</td>\n",
       "      <td>v</td>\n",
       "      <td>1</td>\n",
       "      <td>0</td>\n",
       "      <td>0</td>\n",
       "      <td>0</td>\n",
       "      <td>0</td>\n",
       "      <td>0</td>\n",
       "      <td>0</td>\n",
       "      <td>0</td>\n",
       "      <td>0</td>\n",
       "      <td>0</td>\n",
       "      <td>0</td>\n",
       "      <td>0</td>\n",
       "    </tr>\n",
       "    <tr>\n",
       "      <th>16</th>\n",
       "      <td>4</td>\n",
       "      <td>651</td>\n",
       "      <td>105</td>\n",
       "      <td>2</td>\n",
       "      <td>80</td>\n",
       "      <td>5</td>\n",
       "      <td>4</td>\n",
       "      <td>n</td>\n",
       "      <td>r</td>\n",
       "      <td>n</td>\n",
       "      <td>f</td>\n",
       "      <td>q</td>\n",
       "      <td>s</td>\n",
       "      <td>d</td>\n",
       "      <td>0</td>\n",
       "      <td>1</td>\n",
       "      <td>0</td>\n",
       "      <td>0</td>\n",
       "      <td>0</td>\n",
       "      <td>0</td>\n",
       "      <td>0</td>\n",
       "      <td>0</td>\n",
       "      <td>0</td>\n",
       "      <td>0</td>\n",
       "      <td>0</td>\n",
       "      <td>v</td>\n",
       "      <td>1</td>\n",
       "      <td>0</td>\n",
       "      <td>0</td>\n",
       "      <td>0</td>\n",
       "      <td>0</td>\n",
       "      <td>0</td>\n",
       "      <td>0</td>\n",
       "      <td>0</td>\n",
       "      <td>0</td>\n",
       "      <td>0</td>\n",
       "      <td>0</td>\n",
       "      <td>0</td>\n",
       "    </tr>\n",
       "    <tr>\n",
       "      <th>17</th>\n",
       "      <td>3</td>\n",
       "      <td>1387</td>\n",
       "      <td>3909</td>\n",
       "      <td>5</td>\n",
       "      <td>40</td>\n",
       "      <td>5</td>\n",
       "      <td>10</td>\n",
       "      <td>t</td>\n",
       "      <td>r</td>\n",
       "      <td>n</td>\n",
       "      <td>f</td>\n",
       "      <td>q</td>\n",
       "      <td>o</td>\n",
       "      <td>d</td>\n",
       "      <td>0</td>\n",
       "      <td>0</td>\n",
       "      <td>0</td>\n",
       "      <td>0</td>\n",
       "      <td>1</td>\n",
       "      <td>0</td>\n",
       "      <td>0</td>\n",
       "      <td>0</td>\n",
       "      <td>0</td>\n",
       "      <td>0</td>\n",
       "      <td>0</td>\n",
       "      <td>v</td>\n",
       "      <td>1</td>\n",
       "      <td>0</td>\n",
       "      <td>0</td>\n",
       "      <td>0</td>\n",
       "      <td>0</td>\n",
       "      <td>0</td>\n",
       "      <td>0</td>\n",
       "      <td>0</td>\n",
       "      <td>0</td>\n",
       "      <td>0</td>\n",
       "      <td>0</td>\n",
       "      <td>0</td>\n",
       "    </tr>\n",
       "  </tbody>\n",
       "</table>\n",
       "</div>"
      ],
      "text/plain": [
       "             geo_level_1_id  geo_level_2_id  geo_level_3_id  count_floors_pre_eq  age  area_percentage  height_percentage land_surface_condition foundation_type roof_type ground_floor_type other_floor_type position plan_configuration  has_superstructure_adobe_mud  has_superstructure_mud_mortar_stone  has_superstructure_stone_flag  has_superstructure_cement_mortar_stone  has_superstructure_mud_mortar_brick  has_superstructure_cement_mortar_brick  has_superstructure_timber  has_superstructure_bamboo  has_superstructure_rc_non_engineered  has_superstructure_rc_engineered  has_superstructure_other legal_ownership_status  count_families  has_secondary_use  has_secondary_use_agriculture  has_secondary_use_hotel  has_secondary_use_rental  has_secondary_use_institution  has_secondary_use_school  has_secondary_use_industry  has_secondary_use_health_post  has_secondary_use_gov_office  has_secondary_use_use_police  has_secondary_use_other\n",
       "building_id                                                                                                                                                                                                                                                                                                                                                                                                                                                                                                                                                                                                                                                                                                                                                                                                                                                                                                                                                                  \n",
       "4                        30             266            1224                    1   25                5                  2                      t               r         n                 f                j        s                  d                             0                                    1                              0                                       0                                    0                                       0                          0                          0                                     0                                 0                         0                      v               0                  0                              0                        0                         0                              0                         0                           0                              0                             0                             0                        0\n",
       "8                        17             409           12182                    2    0               13                  7                      t               r         n                 f                q        s                  d                             0                                    1                              0                                       0                                    0                                       0                          0                          0                                     0                                 0                         0                      v               1                  0                              0                        0                         0                              0                         0                           0                              0                             0                             0                        0\n",
       "12                       17             716            7056                    2    5               12                  6                      o               r         q                 f                q        s                  d                             0                                    1                              0                                       0                                    0                                       0                          0                          0                                     0                                 0                         0                      v               1                  0                              0                        0                         0                              0                         0                           0                              0                             0                             0                        0\n",
       "16                        4             651             105                    2   80                5                  4                      n               r         n                 f                q        s                  d                             0                                    1                              0                                       0                                    0                                       0                          0                          0                                     0                                 0                         0                      v               1                  0                              0                        0                         0                              0                         0                           0                              0                             0                             0                        0\n",
       "17                        3            1387            3909                    5   40                5                 10                      t               r         n                 f                q        o                  d                             0                                    0                              0                                       0                                    1                                       0                          0                          0                                     0                                 0                         0                      v               1                  0                              0                        0                         0                              0                         0                           0                              0                             0                             0                        0"
      ]
     },
     "execution_count": 4,
     "metadata": {},
     "output_type": "execute_result"
    }
   ],
   "source": [
    "train_values.head()"
   ]
  },
  {
   "cell_type": "code",
   "execution_count": 5,
   "metadata": {},
   "outputs": [
    {
     "data": {
      "text/html": [
       "<div>\n",
       "<style scoped>\n",
       "    .dataframe tbody tr th:only-of-type {\n",
       "        vertical-align: middle;\n",
       "    }\n",
       "\n",
       "    .dataframe tbody tr th {\n",
       "        vertical-align: top;\n",
       "    }\n",
       "\n",
       "    .dataframe thead th {\n",
       "        text-align: right;\n",
       "    }\n",
       "</style>\n",
       "<table border=\"1\" class=\"dataframe\">\n",
       "  <thead>\n",
       "    <tr style=\"text-align: right;\">\n",
       "      <th></th>\n",
       "      <th>damage_grade</th>\n",
       "    </tr>\n",
       "    <tr>\n",
       "      <th>building_id</th>\n",
       "      <th></th>\n",
       "    </tr>\n",
       "  </thead>\n",
       "  <tbody>\n",
       "    <tr>\n",
       "      <th>4</th>\n",
       "      <td>2</td>\n",
       "    </tr>\n",
       "    <tr>\n",
       "      <th>8</th>\n",
       "      <td>3</td>\n",
       "    </tr>\n",
       "    <tr>\n",
       "      <th>12</th>\n",
       "      <td>3</td>\n",
       "    </tr>\n",
       "    <tr>\n",
       "      <th>16</th>\n",
       "      <td>2</td>\n",
       "    </tr>\n",
       "    <tr>\n",
       "      <th>17</th>\n",
       "      <td>2</td>\n",
       "    </tr>\n",
       "  </tbody>\n",
       "</table>\n",
       "</div>"
      ],
      "text/plain": [
       "             damage_grade\n",
       "building_id              \n",
       "4                       2\n",
       "8                       3\n",
       "12                      3\n",
       "16                      2\n",
       "17                      2"
      ]
     },
     "execution_count": 5,
     "metadata": {},
     "output_type": "execute_result"
    }
   ],
   "source": [
    "train_labels.head()"
   ]
  },
  {
   "cell_type": "code",
   "execution_count": 6,
   "metadata": {},
   "outputs": [
    {
     "data": {
      "text/plain": [
       "geo_level_1_id                             int64\n",
       "geo_level_2_id                             int64\n",
       "geo_level_3_id                             int64\n",
       "count_floors_pre_eq                        int64\n",
       "age                                        int64\n",
       "area_percentage                            int64\n",
       "height_percentage                          int64\n",
       "land_surface_condition                    object\n",
       "foundation_type                           object\n",
       "roof_type                                 object\n",
       "ground_floor_type                         object\n",
       "other_floor_type                          object\n",
       "position                                  object\n",
       "plan_configuration                        object\n",
       "has_superstructure_adobe_mud               int64\n",
       "has_superstructure_mud_mortar_stone        int64\n",
       "has_superstructure_stone_flag              int64\n",
       "has_superstructure_cement_mortar_stone     int64\n",
       "has_superstructure_mud_mortar_brick        int64\n",
       "has_superstructure_cement_mortar_brick     int64\n",
       "has_superstructure_timber                  int64\n",
       "has_superstructure_bamboo                  int64\n",
       "has_superstructure_rc_non_engineered       int64\n",
       "has_superstructure_rc_engineered           int64\n",
       "has_superstructure_other                   int64\n",
       "legal_ownership_status                    object\n",
       "count_families                             int64\n",
       "has_secondary_use                          int64\n",
       "has_secondary_use_agriculture              int64\n",
       "has_secondary_use_hotel                    int64\n",
       "has_secondary_use_rental                   int64\n",
       "has_secondary_use_institution              int64\n",
       "has_secondary_use_school                   int64\n",
       "has_secondary_use_industry                 int64\n",
       "has_secondary_use_health_post              int64\n",
       "has_secondary_use_gov_office               int64\n",
       "has_secondary_use_use_police               int64\n",
       "has_secondary_use_other                    int64\n",
       "dtype: object"
      ]
     },
     "execution_count": 6,
     "metadata": {},
     "output_type": "execute_result"
    }
   ],
   "source": [
    "train_values.dtypes"
   ]
  },
  {
   "cell_type": "code",
   "execution_count": 7,
   "metadata": {},
   "outputs": [
    {
     "data": {
      "text/plain": [
       "Index(['land_surface_condition', 'foundation_type', 'roof_type', 'ground_floor_type', 'other_floor_type', 'position', 'plan_configuration', 'legal_ownership_status'], dtype='object')"
      ]
     },
     "execution_count": 7,
     "metadata": {},
     "output_type": "execute_result"
    }
   ],
   "source": [
    "categorical_columns = train_values.select_dtypes(include=['object']).columns\n",
    "categorical_columns"
   ]
  },
  {
   "cell_type": "code",
   "execution_count": 8,
   "metadata": {},
   "outputs": [
    {
     "data": {
      "image/png": "[encoded data removed]",
      "text/plain": [
       "<Figure size 432x288 with 1 Axes>"
      ]
     },
     "metadata": {
      "needs_background": "light"
     },
     "output_type": "display_data"
    },
    {
     "data": {
      "image/png": "[encoded data removed]",
      "text/plain": [
       "<Figure size 432x288 with 1 Axes>"
      ]
     },
     "metadata": {
      "needs_background": "light"
     },
     "output_type": "display_data"
    },
    {
     "data": {
      "image/png": "[encoded data removed]",
      "text/plain": [
       "<Figure size 432x288 with 1 Axes>"
      ]
     },
     "metadata": {
      "needs_background": "light"
     },
     "output_type": "display_data"
    },
    {
     "data": {
      "image/png": "[encoded data removed]",
      "text/plain": [
       "<Figure size 432x288 with 1 Axes>"
      ]
     },
     "metadata": {
      "needs_background": "light"
     },
     "output_type": "display_data"
    },
    {
     "data": {
      "image/png": "[encoded data removed]",
      "text/plain": [
       "<Figure size 432x288 with 1 Axes>"
      ]
     },
     "metadata": {
      "needs_background": "light"
     },
     "output_type": "display_data"
    },
    {
     "data": {
      "image/png": "[encoded data removed]",
      "text/plain": [
       "<Figure size 432x288 with 1 Axes>"
      ]
     },
     "metadata": {
      "needs_background": "light"
     },
     "output_type": "display_data"
    },
    {
     "data": {
      "image/png": "[encoded data removed]",
      "text/plain": [
       "<Figure size 432x288 with 1 Axes>"
      ]
     },
     "metadata": {
      "needs_background": "light"
     },
     "output_type": "display_data"
    },
    {
     "data": {
      "image/png": "[encoded data removed]",
      "text/plain": [
       "<Figure size 432x288 with 1 Axes>"
      ]
     },
     "metadata": {
      "needs_background": "light"
     },
     "output_type": "display_data"
    }
   ],
   "source": [
    "for cal in categorical_columns:\n",
    "    sns.countplot(x=train_values[cal])\n",
    "    plt.show()"
   ]
  },
  {
   "cell_type": "markdown",
   "metadata": {},
   "source": [
    "## Encode"
   ]
  },
  {
   "cell_type": "code",
   "execution_count": 9,
   "metadata": {},
   "outputs": [
    {
     "data": {
      "text/html": [
       "<div>\n",
       "<style scoped>\n",
       "    .dataframe tbody tr th:only-of-type {\n",
       "        vertical-align: middle;\n",
       "    }\n",
       "\n",
       "    .dataframe tbody tr th {\n",
       "        vertical-align: top;\n",
       "    }\n",
       "\n",
       "    .dataframe thead th {\n",
       "        text-align: right;\n",
       "    }\n",
       "</style>\n",
       "<table border=\"1\" class=\"dataframe\">\n",
       "  <thead>\n",
       "    <tr style=\"text-align: right;\">\n",
       "      <th></th>\n",
       "      <th>geo_level_1_id</th>\n",
       "      <th>geo_level_2_id</th>\n",
       "      <th>geo_level_3_id</th>\n",
       "      <th>count_floors_pre_eq</th>\n",
       "      <th>age</th>\n",
       "      <th>area_percentage</th>\n",
       "      <th>height_percentage</th>\n",
       "      <th>has_superstructure_adobe_mud</th>\n",
       "      <th>has_superstructure_mud_mortar_stone</th>\n",
       "      <th>has_superstructure_stone_flag</th>\n",
       "      <th>has_superstructure_cement_mortar_stone</th>\n",
       "      <th>has_superstructure_mud_mortar_brick</th>\n",
       "      <th>has_superstructure_cement_mortar_brick</th>\n",
       "      <th>has_superstructure_timber</th>\n",
       "      <th>has_superstructure_bamboo</th>\n",
       "      <th>has_superstructure_rc_non_engineered</th>\n",
       "      <th>has_superstructure_rc_engineered</th>\n",
       "      <th>has_superstructure_other</th>\n",
       "      <th>count_families</th>\n",
       "      <th>has_secondary_use</th>\n",
       "      <th>has_secondary_use_agriculture</th>\n",
       "      <th>has_secondary_use_hotel</th>\n",
       "      <th>has_secondary_use_rental</th>\n",
       "      <th>has_secondary_use_institution</th>\n",
       "      <th>has_secondary_use_school</th>\n",
       "      <th>has_secondary_use_industry</th>\n",
       "      <th>has_secondary_use_health_post</th>\n",
       "      <th>has_secondary_use_gov_office</th>\n",
       "      <th>has_secondary_use_use_police</th>\n",
       "      <th>has_secondary_use_other</th>\n",
       "      <th>land_surface_condition_n</th>\n",
       "      <th>land_surface_condition_o</th>\n",
       "      <th>land_surface_condition_t</th>\n",
       "      <th>foundation_type_h</th>\n",
       "      <th>foundation_type_i</th>\n",
       "      <th>foundation_type_r</th>\n",
       "      <th>foundation_type_u</th>\n",
       "      <th>foundation_type_w</th>\n",
       "      <th>roof_type_n</th>\n",
       "      <th>roof_type_q</th>\n",
       "      <th>roof_type_x</th>\n",
       "      <th>ground_floor_type_f</th>\n",
       "      <th>ground_floor_type_m</th>\n",
       "      <th>ground_floor_type_v</th>\n",
       "      <th>ground_floor_type_x</th>\n",
       "      <th>ground_floor_type_z</th>\n",
       "      <th>other_floor_type_j</th>\n",
       "      <th>other_floor_type_q</th>\n",
       "      <th>other_floor_type_s</th>\n",
       "      <th>other_floor_type_x</th>\n",
       "      <th>position_j</th>\n",
       "      <th>position_o</th>\n",
       "      <th>position_s</th>\n",
       "      <th>position_t</th>\n",
       "      <th>plan_configuration_a</th>\n",
       "      <th>plan_configuration_c</th>\n",
       "      <th>plan_configuration_d</th>\n",
       "      <th>plan_configuration_f</th>\n",
       "      <th>plan_configuration_m</th>\n",
       "      <th>plan_configuration_n</th>\n",
       "      <th>plan_configuration_o</th>\n",
       "      <th>plan_configuration_q</th>\n",
       "      <th>plan_configuration_s</th>\n",
       "      <th>plan_configuration_u</th>\n",
       "      <th>legal_ownership_status_a</th>\n",
       "      <th>legal_ownership_status_r</th>\n",
       "      <th>legal_ownership_status_v</th>\n",
       "      <th>legal_ownership_status_w</th>\n",
       "    </tr>\n",
       "    <tr>\n",
       "      <th>building_id</th>\n",
       "      <th></th>\n",
       "      <th></th>\n",
       "      <th></th>\n",
       "      <th></th>\n",
       "      <th></th>\n",
       "      <th></th>\n",
       "      <th></th>\n",
       "      <th></th>\n",
       "      <th></th>\n",
       "      <th></th>\n",
       "      <th></th>\n",
       "      <th></th>\n",
       "      <th></th>\n",
       "      <th></th>\n",
       "      <th></th>\n",
       "      <th></th>\n",
       "      <th></th>\n",
       "      <th></th>\n",
       "      <th></th>\n",
       "      <th></th>\n",
       "      <th></th>\n",
       "      <th></th>\n",
       "      <th></th>\n",
       "      <th></th>\n",
       "      <th></th>\n",
       "      <th></th>\n",
       "      <th></th>\n",
       "      <th></th>\n",
       "      <th></th>\n",
       "      <th></th>\n",
       "      <th></th>\n",
       "      <th></th>\n",
       "      <th></th>\n",
       "      <th></th>\n",
       "      <th></th>\n",
       "      <th></th>\n",
       "      <th></th>\n",
       "      <th></th>\n",
       "      <th></th>\n",
       "      <th></th>\n",
       "      <th></th>\n",
       "      <th></th>\n",
       "      <th></th>\n",
       "      <th></th>\n",
       "      <th></th>\n",
       "      <th></th>\n",
       "      <th></th>\n",
       "      <th></th>\n",
       "      <th></th>\n",
       "      <th></th>\n",
       "      <th></th>\n",
       "      <th></th>\n",
       "      <th></th>\n",
       "      <th></th>\n",
       "      <th></th>\n",
       "      <th></th>\n",
       "      <th></th>\n",
       "      <th></th>\n",
       "      <th></th>\n",
       "      <th></th>\n",
       "      <th></th>\n",
       "      <th></th>\n",
       "      <th></th>\n",
       "      <th></th>\n",
       "      <th></th>\n",
       "      <th></th>\n",
       "      <th></th>\n",
       "      <th></th>\n",
       "    </tr>\n",
       "  </thead>\n",
       "  <tbody>\n",
       "    <tr>\n",
       "      <th>4</th>\n",
       "      <td>30</td>\n",
       "      <td>266</td>\n",
       "      <td>1224</td>\n",
       "      <td>1</td>\n",
       "      <td>25</td>\n",
       "      <td>5</td>\n",
       "      <td>2</td>\n",
       "      <td>0</td>\n",
       "      <td>1</td>\n",
       "      <td>0</td>\n",
       "      <td>0</td>\n",
       "      <td>0</td>\n",
       "      <td>0</td>\n",
       "      <td>0</td>\n",
       "      <td>0</td>\n",
       "      <td>0</td>\n",
       "      <td>0</td>\n",
       "      <td>0</td>\n",
       "      <td>0</td>\n",
       "      <td>0</td>\n",
       "      <td>0</td>\n",
       "      <td>0</td>\n",
       "      <td>0</td>\n",
       "      <td>0</td>\n",
       "      <td>0</td>\n",
       "      <td>0</td>\n",
       "      <td>0</td>\n",
       "      <td>0</td>\n",
       "      <td>0</td>\n",
       "      <td>0</td>\n",
       "      <td>0</td>\n",
       "      <td>0</td>\n",
       "      <td>1</td>\n",
       "      <td>0</td>\n",
       "      <td>0</td>\n",
       "      <td>1</td>\n",
       "      <td>0</td>\n",
       "      <td>0</td>\n",
       "      <td>1</td>\n",
       "      <td>0</td>\n",
       "      <td>0</td>\n",
       "      <td>1</td>\n",
       "      <td>0</td>\n",
       "      <td>0</td>\n",
       "      <td>0</td>\n",
       "      <td>0</td>\n",
       "      <td>1</td>\n",
       "      <td>0</td>\n",
       "      <td>0</td>\n",
       "      <td>0</td>\n",
       "      <td>0</td>\n",
       "      <td>0</td>\n",
       "      <td>1</td>\n",
       "      <td>0</td>\n",
       "      <td>0</td>\n",
       "      <td>0</td>\n",
       "      <td>1</td>\n",
       "      <td>0</td>\n",
       "      <td>0</td>\n",
       "      <td>0</td>\n",
       "      <td>0</td>\n",
       "      <td>0</td>\n",
       "      <td>0</td>\n",
       "      <td>0</td>\n",
       "      <td>0</td>\n",
       "      <td>0</td>\n",
       "      <td>1</td>\n",
       "      <td>0</td>\n",
       "    </tr>\n",
       "    <tr>\n",
       "      <th>8</th>\n",
       "      <td>17</td>\n",
       "      <td>409</td>\n",
       "      <td>12182</td>\n",
       "      <td>2</td>\n",
       "      <td>0</td>\n",
       "      <td>13</td>\n",
       "      <td>7</td>\n",
       "      <td>0</td>\n",
       "      <td>1</td>\n",
       "      <td>0</td>\n",
       "      <td>0</td>\n",
       "      <td>0</td>\n",
       "      <td>0</td>\n",
       "      <td>0</td>\n",
       "      <td>0</td>\n",
       "      <td>0</td>\n",
       "      <td>0</td>\n",
       "      <td>0</td>\n",
       "      <td>1</td>\n",
       "      <td>0</td>\n",
       "      <td>0</td>\n",
       "      <td>0</td>\n",
       "      <td>0</td>\n",
       "      <td>0</td>\n",
       "      <td>0</td>\n",
       "      <td>0</td>\n",
       "      <td>0</td>\n",
       "      <td>0</td>\n",
       "      <td>0</td>\n",
       "      <td>0</td>\n",
       "      <td>0</td>\n",
       "      <td>0</td>\n",
       "      <td>1</td>\n",
       "      <td>0</td>\n",
       "      <td>0</td>\n",
       "      <td>1</td>\n",
       "      <td>0</td>\n",
       "      <td>0</td>\n",
       "      <td>1</td>\n",
       "      <td>0</td>\n",
       "      <td>0</td>\n",
       "      <td>1</td>\n",
       "      <td>0</td>\n",
       "      <td>0</td>\n",
       "      <td>0</td>\n",
       "      <td>0</td>\n",
       "      <td>0</td>\n",
       "      <td>1</td>\n",
       "      <td>0</td>\n",
       "      <td>0</td>\n",
       "      <td>0</td>\n",
       "      <td>0</td>\n",
       "      <td>1</td>\n",
       "      <td>0</td>\n",
       "      <td>0</td>\n",
       "      <td>0</td>\n",
       "      <td>1</td>\n",
       "      <td>0</td>\n",
       "      <td>0</td>\n",
       "      <td>0</td>\n",
       "      <td>0</td>\n",
       "      <td>0</td>\n",
       "      <td>0</td>\n",
       "      <td>0</td>\n",
       "      <td>0</td>\n",
       "      <td>0</td>\n",
       "      <td>1</td>\n",
       "      <td>0</td>\n",
       "    </tr>\n",
       "    <tr>\n",
       "      <th>12</th>\n",
       "      <td>17</td>\n",
       "      <td>716</td>\n",
       "      <td>7056</td>\n",
       "      <td>2</td>\n",
       "      <td>5</td>\n",
       "      <td>12</td>\n",
       "      <td>6</td>\n",
       "      <td>0</td>\n",
       "      <td>1</td>\n",
       "      <td>0</td>\n",
       "      <td>0</td>\n",
       "      <td>0</td>\n",
       "      <td>0</td>\n",
       "      <td>0</td>\n",
       "      <td>0</td>\n",
       "      <td>0</td>\n",
       "      <td>0</td>\n",
       "      <td>0</td>\n",
       "      <td>1</td>\n",
       "      <td>0</td>\n",
       "      <td>0</td>\n",
       "      <td>0</td>\n",
       "      <td>0</td>\n",
       "      <td>0</td>\n",
       "      <td>0</td>\n",
       "      <td>0</td>\n",
       "      <td>0</td>\n",
       "      <td>0</td>\n",
       "      <td>0</td>\n",
       "      <td>0</td>\n",
       "      <td>0</td>\n",
       "      <td>1</td>\n",
       "      <td>0</td>\n",
       "      <td>0</td>\n",
       "      <td>0</td>\n",
       "      <td>1</td>\n",
       "      <td>0</td>\n",
       "      <td>0</td>\n",
       "      <td>0</td>\n",
       "      <td>1</td>\n",
       "      <td>0</td>\n",
       "      <td>1</td>\n",
       "      <td>0</td>\n",
       "      <td>0</td>\n",
       "      <td>0</td>\n",
       "      <td>0</td>\n",
       "      <td>0</td>\n",
       "      <td>1</td>\n",
       "      <td>0</td>\n",
       "      <td>0</td>\n",
       "      <td>0</td>\n",
       "      <td>0</td>\n",
       "      <td>1</td>\n",
       "      <td>0</td>\n",
       "      <td>0</td>\n",
       "      <td>0</td>\n",
       "      <td>1</td>\n",
       "      <td>0</td>\n",
       "      <td>0</td>\n",
       "      <td>0</td>\n",
       "      <td>0</td>\n",
       "      <td>0</td>\n",
       "      <td>0</td>\n",
       "      <td>0</td>\n",
       "      <td>0</td>\n",
       "      <td>0</td>\n",
       "      <td>1</td>\n",
       "      <td>0</td>\n",
       "    </tr>\n",
       "    <tr>\n",
       "      <th>16</th>\n",
       "      <td>4</td>\n",
       "      <td>651</td>\n",
       "      <td>105</td>\n",
       "      <td>2</td>\n",
       "      <td>80</td>\n",
       "      <td>5</td>\n",
       "      <td>4</td>\n",
       "      <td>0</td>\n",
       "      <td>1</td>\n",
       "      <td>0</td>\n",
       "      <td>0</td>\n",
       "      <td>0</td>\n",
       "      <td>0</td>\n",
       "      <td>0</td>\n",
       "      <td>0</td>\n",
       "      <td>0</td>\n",
       "      <td>0</td>\n",
       "      <td>0</td>\n",
       "      <td>1</td>\n",
       "      <td>0</td>\n",
       "      <td>0</td>\n",
       "      <td>0</td>\n",
       "      <td>0</td>\n",
       "      <td>0</td>\n",
       "      <td>0</td>\n",
       "      <td>0</td>\n",
       "      <td>0</td>\n",
       "      <td>0</td>\n",
       "      <td>0</td>\n",
       "      <td>0</td>\n",
       "      <td>1</td>\n",
       "      <td>0</td>\n",
       "      <td>0</td>\n",
       "      <td>0</td>\n",
       "      <td>0</td>\n",
       "      <td>1</td>\n",
       "      <td>0</td>\n",
       "      <td>0</td>\n",
       "      <td>1</td>\n",
       "      <td>0</td>\n",
       "      <td>0</td>\n",
       "      <td>1</td>\n",
       "      <td>0</td>\n",
       "      <td>0</td>\n",
       "      <td>0</td>\n",
       "      <td>0</td>\n",
       "      <td>0</td>\n",
       "      <td>1</td>\n",
       "      <td>0</td>\n",
       "      <td>0</td>\n",
       "      <td>0</td>\n",
       "      <td>0</td>\n",
       "      <td>1</td>\n",
       "      <td>0</td>\n",
       "      <td>0</td>\n",
       "      <td>0</td>\n",
       "      <td>1</td>\n",
       "      <td>0</td>\n",
       "      <td>0</td>\n",
       "      <td>0</td>\n",
       "      <td>0</td>\n",
       "      <td>0</td>\n",
       "      <td>0</td>\n",
       "      <td>0</td>\n",
       "      <td>0</td>\n",
       "      <td>0</td>\n",
       "      <td>1</td>\n",
       "      <td>0</td>\n",
       "    </tr>\n",
       "    <tr>\n",
       "      <th>17</th>\n",
       "      <td>3</td>\n",
       "      <td>1387</td>\n",
       "      <td>3909</td>\n",
       "      <td>5</td>\n",
       "      <td>40</td>\n",
       "      <td>5</td>\n",
       "      <td>10</td>\n",
       "      <td>0</td>\n",
       "      <td>0</td>\n",
       "      <td>0</td>\n",
       "      <td>0</td>\n",
       "      <td>1</td>\n",
       "      <td>0</td>\n",
       "      <td>0</td>\n",
       "      <td>0</td>\n",
       "      <td>0</td>\n",
       "      <td>0</td>\n",
       "      <td>0</td>\n",
       "      <td>1</td>\n",
       "      <td>0</td>\n",
       "      <td>0</td>\n",
       "      <td>0</td>\n",
       "      <td>0</td>\n",
       "      <td>0</td>\n",
       "      <td>0</td>\n",
       "      <td>0</td>\n",
       "      <td>0</td>\n",
       "      <td>0</td>\n",
       "      <td>0</td>\n",
       "      <td>0</td>\n",
       "      <td>0</td>\n",
       "      <td>0</td>\n",
       "      <td>1</td>\n",
       "      <td>0</td>\n",
       "      <td>0</td>\n",
       "      <td>1</td>\n",
       "      <td>0</td>\n",
       "      <td>0</td>\n",
       "      <td>1</td>\n",
       "      <td>0</td>\n",
       "      <td>0</td>\n",
       "      <td>1</td>\n",
       "      <td>0</td>\n",
       "      <td>0</td>\n",
       "      <td>0</td>\n",
       "      <td>0</td>\n",
       "      <td>0</td>\n",
       "      <td>1</td>\n",
       "      <td>0</td>\n",
       "      <td>0</td>\n",
       "      <td>0</td>\n",
       "      <td>1</td>\n",
       "      <td>0</td>\n",
       "      <td>0</td>\n",
       "      <td>0</td>\n",
       "      <td>0</td>\n",
       "      <td>1</td>\n",
       "      <td>0</td>\n",
       "      <td>0</td>\n",
       "      <td>0</td>\n",
       "      <td>0</td>\n",
       "      <td>0</td>\n",
       "      <td>0</td>\n",
       "      <td>0</td>\n",
       "      <td>0</td>\n",
       "      <td>0</td>\n",
       "      <td>1</td>\n",
       "      <td>0</td>\n",
       "    </tr>\n",
       "  </tbody>\n",
       "</table>\n",
       "</div>"
      ],
      "text/plain": [
       "             geo_level_1_id  geo_level_2_id  geo_level_3_id  count_floors_pre_eq  age  area_percentage  height_percentage  has_superstructure_adobe_mud  has_superstructure_mud_mortar_stone  has_superstructure_stone_flag  has_superstructure_cement_mortar_stone  has_superstructure_mud_mortar_brick  has_superstructure_cement_mortar_brick  has_superstructure_timber  has_superstructure_bamboo  has_superstructure_rc_non_engineered  has_superstructure_rc_engineered  has_superstructure_other  count_families  has_secondary_use  has_secondary_use_agriculture  has_secondary_use_hotel  has_secondary_use_rental  has_secondary_use_institution  has_secondary_use_school  has_secondary_use_industry  has_secondary_use_health_post  has_secondary_use_gov_office  has_secondary_use_use_police  has_secondary_use_other  land_surface_condition_n  land_surface_condition_o  land_surface_condition_t  foundation_type_h  foundation_type_i  foundation_type_r  foundation_type_u  foundation_type_w  roof_type_n  \\\n",
       "building_id                                                                                                                                                                                                                                                                                                                                                                                                                                                                                                                                                                                                                                                                                                                                                                                                                                                                                                                                                                                                                        \n",
       "4                        30             266            1224                    1   25                5                  2                             0                                    1                              0                                       0                                    0                                       0                          0                          0                                     0                                 0                         0               0                  0                              0                        0                         0                              0                         0                           0                              0                             0                             0                        0                         0                         0                         1                  0                  0                  1                  0                  0            1   \n",
       "8                        17             409           12182                    2    0               13                  7                             0                                    1                              0                                       0                                    0                                       0                          0                          0                                     0                                 0                         0               1                  0                              0                        0                         0                              0                         0                           0                              0                             0                             0                        0                         0                         0                         1                  0                  0                  1                  0                  0            1   \n",
       "12                       17             716            7056                    2    5               12                  6                             0                                    1                              0                                       0                                    0                                       0                          0                          0                                     0                                 0                         0               1                  0                              0                        0                         0                              0                         0                           0                              0                             0                             0                        0                         0                         1                         0                  0                  0                  1                  0                  0            0   \n",
       "16                        4             651             105                    2   80                5                  4                             0                                    1                              0                                       0                                    0                                       0                          0                          0                                     0                                 0                         0               1                  0                              0                        0                         0                              0                         0                           0                              0                             0                             0                        0                         1                         0                         0                  0                  0                  1                  0                  0            1   \n",
       "17                        3            1387            3909                    5   40                5                 10                             0                                    0                              0                                       0                                    1                                       0                          0                          0                                     0                                 0                         0               1                  0                              0                        0                         0                              0                         0                           0                              0                             0                             0                        0                         0                         0                         1                  0                  0                  1                  0                  0            1   \n",
       "\n",
       "             roof_type_q  roof_type_x  ground_floor_type_f  ground_floor_type_m  ground_floor_type_v  ground_floor_type_x  ground_floor_type_z  other_floor_type_j  other_floor_type_q  other_floor_type_s  other_floor_type_x  position_j  position_o  position_s  position_t  plan_configuration_a  plan_configuration_c  plan_configuration_d  plan_configuration_f  plan_configuration_m  plan_configuration_n  plan_configuration_o  plan_configuration_q  plan_configuration_s  plan_configuration_u  legal_ownership_status_a  legal_ownership_status_r  legal_ownership_status_v  legal_ownership_status_w  \n",
       "building_id                                                                                                                                                                                                                                                                                                                                                                                                                                                                                                                                                                                                         \n",
       "4                      0            0                    1                    0                    0                    0                    0                   1                   0                   0                   0           0           0           1           0                     0                     0                     1                     0                     0                     0                     0                     0                     0                     0                         0                         0                         1                         0  \n",
       "8                      0            0                    1                    0                    0                    0                    0                   0                   1                   0                   0           0           0           1           0                     0                     0                     1                     0                     0                     0                     0                     0                     0                     0                         0                         0                         1                         0  \n",
       "12                     1            0                    1                    0                    0                    0                    0                   0                   1                   0                   0           0           0           1           0                     0                     0                     1                     0                     0                     0                     0                     0                     0                     0                         0                         0                         1                         0  \n",
       "16                     0            0                    1                    0                    0                    0                    0                   0                   1                   0                   0           0           0           1           0                     0                     0                     1                     0                     0                     0                     0                     0                     0                     0                         0                         0                         1                         0  \n",
       "17                     0            0                    1                    0                    0                    0                    0                   0                   1                   0                   0           0           1           0           0                     0                     0                     1                     0                     0                     0                     0                     0                     0                     0                         0                         0                         1                         0  "
      ]
     },
     "execution_count": 9,
     "metadata": {},
     "output_type": "execute_result"
    }
   ],
   "source": [
    "df_enc = pd.get_dummies(train_values )\n",
    "df_enc.head()"
   ]
  },
  {
   "cell_type": "code",
   "execution_count": 10,
   "metadata": {
    "scrolled": false
   },
   "outputs": [
    {
     "data": {
      "text/plain": [
       "plan_configuration_f                              22\n",
       "has_secondary_use_use_police                      23\n",
       "has_secondary_use_gov_office                      38\n",
       "plan_configuration_n                              38\n",
       "plan_configuration_m                              46\n",
       "has_secondary_use_health_post                     49\n",
       "has_secondary_use_school                          94\n",
       "plan_configuration_o                             159\n",
       "has_secondary_use_institution                    245\n",
       "plan_configuration_a                             252\n",
       "has_secondary_use_industry                       279\n",
       "plan_configuration_c                             325\n",
       "plan_configuration_s                             346\n",
       "ground_floor_type_m                              508\n",
       "ground_floor_type_z                             1004\n",
       "has_secondary_use_other                         1334\n",
       "foundation_type_h                               1448\n",
       "legal_ownership_status_r                        1473\n",
       "has_secondary_use_rental                        2111\n",
       "position_o                                      2333\n",
       "legal_ownership_status_w                        2677\n",
       "plan_configuration_u                            3649\n",
       "has_superstructure_other                        3905\n",
       "has_superstructure_rc_engineered                4133\n",
       "has_superstructure_cement_mortar_stone          4752\n",
       "legal_ownership_status_a                        5512\n",
       "plan_configuration_q                            5692\n",
       "land_surface_condition_o                        8316\n",
       "has_secondary_use_hotel                         8763\n",
       "has_superstructure_stone_flag                   8947\n",
       "                                             ...    \n",
       "has_superstructure_mud_mortar_brick            17761\n",
       "has_superstructure_cement_mortar_brick         19615\n",
       "has_superstructure_bamboo                      22154\n",
       "has_superstructure_adobe_mud                   23101\n",
       "ground_floor_type_v                            24593\n",
       "ground_floor_type_x                            24877\n",
       "has_secondary_use                              29156\n",
       "land_surface_condition_n                       35528\n",
       "other_floor_type_j                             39843\n",
       "position_t                                     42896\n",
       "other_floor_type_x                             43448\n",
       "roof_type_q                                    61576\n",
       "has_superstructure_timber                      66450\n",
       "other_floor_type_q                            165282\n",
       "roof_type_n                                   182842\n",
       "has_superstructure_mud_mortar_stone           198561\n",
       "position_s                                    202090\n",
       "ground_floor_type_f                           209619\n",
       "land_surface_condition_t                      216757\n",
       "foundation_type_r                             219196\n",
       "plan_configuration_d                          250072\n",
       "legal_ownership_status_v                      250939\n",
       "count_families                                256418\n",
       "count_floors_pre_eq                           555008\n",
       "height_percentage                            1416201\n",
       "area_percentage                              2089512\n",
       "geo_level_1_id                               3622446\n",
       "age                                          6915055\n",
       "geo_level_2_id                             182700764\n",
       "geo_level_3_id                            1630808782\n",
       "Length: 68, dtype: int64"
      ]
     },
     "execution_count": 10,
     "metadata": {},
     "output_type": "execute_result"
    }
   ],
   "source": [
    "df_enc.sum().sort_values()"
   ]
  },
  {
   "cell_type": "markdown",
   "metadata": {},
   "source": [
    "## SPLIT train and test"
   ]
  },
  {
   "cell_type": "code",
   "execution_count": 11,
   "metadata": {},
   "outputs": [],
   "source": [
    "#todo split\n",
    "from sklearn.model_selection import train_test_split\n",
    "\n",
    "x_train, x_test, y_train, y_test = train_test_split(df_enc, train_labels['damage_grade'], test_size=0.3)"
   ]
  },
  {
   "cell_type": "markdown",
   "metadata": {},
   "source": [
    "## SMOTE - on trainset"
   ]
  },
  {
   "cell_type": "code",
   "execution_count": 12,
   "metadata": {},
   "outputs": [
    {
     "data": {
      "text/plain": [
       "<matplotlib.axes._subplots.AxesSubplot at 0x7f6bdbb15b70>"
      ]
     },
     "execution_count": 12,
     "metadata": {},
     "output_type": "execute_result"
    },
    {
     "data": {
      "image/png": "[encoded data removed]",
      "text/plain": [
       "<Figure size 432x288 with 1 Axes>"
      ]
     },
     "metadata": {
      "needs_background": "light"
     },
     "output_type": "display_data"
    }
   ],
   "source": [
    "sns.countplot(x=y_train)"
   ]
  },
  {
   "cell_type": "code",
   "execution_count": 13,
   "metadata": {},
   "outputs": [],
   "source": [
    "from imblearn.over_sampling import SMOTE\n",
    "\n",
    "os = SMOTE(random_state=42, k_neighbors=5)\n",
    "x_os_train, y_os_train = os.fit_resample(x_train, y_train)"
   ]
  },
  {
   "cell_type": "code",
   "execution_count": 14,
   "metadata": {},
   "outputs": [
    {
     "data": {
      "text/plain": [
       "<matplotlib.axes._subplots.AxesSubplot at 0x7f6bb8bc6780>"
      ]
     },
     "execution_count": 14,
     "metadata": {},
     "output_type": "execute_result"
    },
    {
     "data": {
      "image/png": "[encoded data removed]",
      "text/plain": [
       "<Figure size 432x288 with 1 Axes>"
      ]
     },
     "metadata": {
      "needs_background": "light"
     },
     "output_type": "display_data"
    }
   ],
   "source": [
    "sns.countplot(x=y_os_train)"
   ]
  },
  {
   "cell_type": "markdown",
   "metadata": {},
   "source": [
    "# Model"
   ]
  },
  {
   "cell_type": "code",
   "execution_count": 15,
   "metadata": {},
   "outputs": [
    {
     "name": "stdout",
     "output_type": "stream",
     "text": [
      "tensorflow 1.13.1\n",
      "keras 2.2.4-tf\n"
     ]
    }
   ],
   "source": [
    "import tensorflow.keras as keras\n",
    "import tensorflow as tf\n",
    "import tensorflow.keras.utils as keras_utils\n",
    "\n",
    "from tensorflow.keras.layers import Dense, BatchNormalization, Dropout\n",
    "from tensorflow.keras.models import Sequential\n",
    "from tensorflow.keras.optimizers import SGD, Adam\n",
    "from tensorflow.keras.regularizers import l2\n",
    "\n",
    "print('tensorflow', tf.__version__)\n",
    "print('keras', keras.__version__)"
   ]
  },
  {
   "cell_type": "code",
   "execution_count": 16,
   "metadata": {},
   "outputs": [
    {
     "name": "stdout",
     "output_type": "stream",
     "text": [
      "(312237, 68) (312237,)\n",
      "(78181, 68) (78181,)\n"
     ]
    }
   ],
   "source": [
    "print(x_os_train.shape, y_os_train.shape)\n",
    "print(x_test.shape, y_test.shape)"
   ]
  },
  {
   "cell_type": "code",
   "execution_count": 17,
   "metadata": {},
   "outputs": [
    {
     "name": "stdout",
     "output_type": "stream",
     "text": [
      "WARNING:tensorflow:From /home/bponiecki/anaconda3/lib/python3.7/site-packages/tensorflow/python/ops/resource_variable_ops.py:435: colocate_with (from tensorflow.python.framework.ops) is deprecated and will be removed in a future version.\n",
      "Instructions for updating:\n",
      "Colocations handled automatically by placer.\n"
     ]
    }
   ],
   "source": [
    "n = 68\n",
    "model = Sequential()\n",
    "model.add(BatchNormalization(input_shape=(n,)))\n",
    "# model.add(Dense(4*n, activation='tanh'))\n",
    "model.add(Dense(2*n, activation='tanh'))\n",
    "model.add(Dense(n, activation='tanh'))\n",
    "# model.add(Dropout(0.25))\n",
    "model.add(Dense(3, activation='softmax'))"
   ]
  },
  {
   "cell_type": "code",
   "execution_count": 18,
   "metadata": {
    "scrolled": false
   },
   "outputs": [
    {
     "name": "stdout",
     "output_type": "stream",
     "text": [
      "_________________________________________________________________\n",
      "Layer (type)                 Output Shape              Param #   \n",
      "=================================================================\n",
      "batch_normalization_v1 (Batc (None, 68)                272       \n",
      "_________________________________________________________________\n",
      "dense (Dense)                (None, 136)               9384      \n",
      "_________________________________________________________________\n",
      "dense_1 (Dense)              (None, 68)                9316      \n",
      "_________________________________________________________________\n",
      "dense_2 (Dense)              (None, 3)                 207       \n",
      "=================================================================\n",
      "Total params: 19,179\n",
      "Trainable params: 19,043\n",
      "Non-trainable params: 136\n",
      "_________________________________________________________________\n"
     ]
    }
   ],
   "source": [
    "model.compile(loss='categorical_crossentropy', optimizer='rmsprop', metrics=['accuracy'], )\n",
    "model.summary()"
   ]
  },
  {
   "cell_type": "code",
   "execution_count": 19,
   "metadata": {
    "scrolled": true
   },
   "outputs": [
    {
     "name": "stdout",
     "output_type": "stream",
     "text": [
      "Train on 312237 samples, validate on 78181 samples\n",
      "WARNING:tensorflow:From /home/bponiecki/anaconda3/lib/python3.7/site-packages/tensorflow/python/ops/math_ops.py:3066: to_int32 (from tensorflow.python.ops.math_ops) is deprecated and will be removed in a future version.\n",
      "Instructions for updating:\n",
      "Use tf.cast instead.\n",
      "Epoch 1/20\n",
      "312237/312237 [==============================] - 3s 10us/sample - loss: 0.6812 - acc: 0.6625 - val_loss: 0.7786 - val_acc: 0.6137\n",
      "Epoch 2/20\n",
      "312237/312237 [==============================] - 1s 4us/sample - loss: 0.6412 - acc: 0.6876 - val_loss: 0.7882 - val_acc: 0.6009\n",
      "Epoch 3/20\n",
      "312237/312237 [==============================] - 1s 4us/sample - loss: 0.6215 - acc: 0.7010 - val_loss: 0.7647 - val_acc: 0.6313\n",
      "Epoch 4/20\n",
      "312237/312237 [==============================] - 1s 4us/sample - loss: 0.5979 - acc: 0.7173 - val_loss: 0.7490 - val_acc: 0.6415\n",
      "Epoch 5/20\n",
      "312237/312237 [==============================] - 1s 4us/sample - loss: 0.5811 - acc: 0.7264 - val_loss: 0.7309 - val_acc: 0.6539\n",
      "Epoch 6/20\n",
      "312237/312237 [==============================] - 1s 4us/sample - loss: 0.5711 - acc: 0.7322 - val_loss: 0.7460 - val_acc: 0.6336\n",
      "Epoch 7/20\n",
      "312237/312237 [==============================] - 1s 5us/sample - loss: 0.5640 - acc: 0.7355 - val_loss: 0.7363 - val_acc: 0.6519\n",
      "Epoch 8/20\n",
      "312237/312237 [==============================] - 1s 4us/sample - loss: 0.5580 - acc: 0.7388 - val_loss: 0.7504 - val_acc: 0.6306\n",
      "Epoch 9/20\n",
      "312237/312237 [==============================] - 1s 4us/sample - loss: 0.5529 - acc: 0.7414 - val_loss: 0.7333 - val_acc: 0.6451\n",
      "Epoch 10/20\n",
      "312237/312237 [==============================] - 1s 4us/sample - loss: 0.5483 - acc: 0.7440 - val_loss: 0.7196 - val_acc: 0.6578\n",
      "Epoch 11/20\n",
      "312237/312237 [==============================] - 1s 4us/sample - loss: 0.5436 - acc: 0.7462 - val_loss: 0.7231 - val_acc: 0.6567\n",
      "Epoch 12/20\n",
      "312237/312237 [==============================] - 1s 4us/sample - loss: 0.5407 - acc: 0.7476 - val_loss: 0.7196 - val_acc: 0.6612\n",
      "Epoch 13/20\n",
      "312237/312237 [==============================] - 1s 5us/sample - loss: 0.5375 - acc: 0.7500 - val_loss: 0.7198 - val_acc: 0.6628\n",
      "Epoch 14/20\n",
      "312237/312237 [==============================] - 1s 5us/sample - loss: 0.5343 - acc: 0.7511 - val_loss: 0.7255 - val_acc: 0.6532\n",
      "Epoch 15/20\n",
      "312237/312237 [==============================] - 1s 5us/sample - loss: 0.5313 - acc: 0.7526 - val_loss: 0.7226 - val_acc: 0.6549\n",
      "Epoch 16/20\n",
      "312237/312237 [==============================] - 1s 5us/sample - loss: 0.5283 - acc: 0.7549 - val_loss: 0.7189 - val_acc: 0.6620\n",
      "Epoch 17/20\n",
      "312237/312237 [==============================] - 1s 5us/sample - loss: 0.5259 - acc: 0.7553 - val_loss: 0.7233 - val_acc: 0.6594\n",
      "Epoch 18/20\n",
      "312237/312237 [==============================] - 1s 5us/sample - loss: 0.5237 - acc: 0.7574 - val_loss: 0.7326 - val_acc: 0.6477\n",
      "Epoch 19/20\n",
      "312237/312237 [==============================] - 1s 5us/sample - loss: 0.5221 - acc: 0.7585 - val_loss: 0.7250 - val_acc: 0.6567\n",
      "Epoch 20/20\n",
      "312237/312237 [==============================] - 1s 5us/sample - loss: 0.5195 - acc: 0.7599 - val_loss: 0.7325 - val_acc: 0.6463\n"
     ]
    }
   ],
   "source": [
    "# df_enc, train_labels['damage_grade']\n",
    "input_x = x_os_train\n",
    "input_y = keras_utils.to_categorical(y_os_train-1)\n",
    "y_val = keras_utils.to_categorical(y_test-1)\n",
    "history = model.fit(input_x, input_y,  epochs=20, validation_data=(x_test, y_val), batch_size=512)"
   ]
  },
  {
   "cell_type": "code",
   "execution_count": 20,
   "metadata": {},
   "outputs": [
    {
     "data": {
      "image/png": "[encoded data removed]",
      "text/plain": [
       "<Figure size 432x288 with 1 Axes>"
      ]
     },
     "metadata": {
      "needs_background": "light"
     },
     "output_type": "display_data"
    }
   ],
   "source": [
    "plt.plot(history.history['acc'])\n",
    "plt.plot(history.history['val_acc'])\n",
    "plt.title('model accuracy')\n",
    "plt.ylabel('accuracy')\n",
    "plt.xlabel('epoch')\n",
    "plt.legend(['train', 'test'], loc='upper left')\n",
    "plt.show()"
   ]
  },
  {
   "cell_type": "code",
   "execution_count": 21,
   "metadata": {},
   "outputs": [
    {
     "data": {
      "image/png": "[encoded data removed]",
      "text/plain": [
       "<Figure size 432x288 with 1 Axes>"
      ]
     },
     "metadata": {
      "needs_background": "light"
     },
     "output_type": "display_data"
    }
   ],
   "source": [
    "plt.plot(history.history['loss'])\n",
    "plt.plot(history.history['val_loss'])\n",
    "plt.title('model loss')\n",
    "plt.ylabel('loss')\n",
    "plt.xlabel('epoch')\n",
    "plt.legend(['train', 'test'], loc='upper left')\n",
    "plt.show()"
   ]
  },
  {
   "cell_type": "markdown",
   "metadata": {},
   "source": [
    "# Prediction"
   ]
  },
  {
   "cell_type": "code",
   "execution_count": 22,
   "metadata": {},
   "outputs": [],
   "source": [
    "test_values = pd.read_csv('data/test_values.csv', index_col='building_id')\n",
    "test_enc = pd.get_dummies(test_values)\n",
    "predictions = model.predict_classes(test_enc)\n",
    "corr_pred = predictions+1"
   ]
  },
  {
   "cell_type": "code",
   "execution_count": 23,
   "metadata": {},
   "outputs": [
    {
     "data": {
      "text/html": [
       "<div>\n",
       "<style scoped>\n",
       "    .dataframe tbody tr th:only-of-type {\n",
       "        vertical-align: middle;\n",
       "    }\n",
       "\n",
       "    .dataframe tbody tr th {\n",
       "        vertical-align: top;\n",
       "    }\n",
       "\n",
       "    .dataframe thead th {\n",
       "        text-align: right;\n",
       "    }\n",
       "</style>\n",
       "<table border=\"1\" class=\"dataframe\">\n",
       "  <thead>\n",
       "    <tr style=\"text-align: right;\">\n",
       "      <th></th>\n",
       "      <th>damage_grade</th>\n",
       "    </tr>\n",
       "    <tr>\n",
       "      <th>building_id</th>\n",
       "      <th></th>\n",
       "    </tr>\n",
       "  </thead>\n",
       "  <tbody>\n",
       "    <tr>\n",
       "      <th>300051</th>\n",
       "      <td>3</td>\n",
       "    </tr>\n",
       "    <tr>\n",
       "      <th>99355</th>\n",
       "      <td>2</td>\n",
       "    </tr>\n",
       "    <tr>\n",
       "      <th>890251</th>\n",
       "      <td>3</td>\n",
       "    </tr>\n",
       "    <tr>\n",
       "      <th>745817</th>\n",
       "      <td>2</td>\n",
       "    </tr>\n",
       "    <tr>\n",
       "      <th>421793</th>\n",
       "      <td>3</td>\n",
       "    </tr>\n",
       "  </tbody>\n",
       "</table>\n",
       "</div>"
      ],
      "text/plain": [
       "             damage_grade\n",
       "building_id              \n",
       "300051                  3\n",
       "99355                   2\n",
       "890251                  3\n",
       "745817                  2\n",
       "421793                  3"
      ]
     },
     "execution_count": 23,
     "metadata": {},
     "output_type": "execute_result"
    }
   ],
   "source": [
    "submission_format = pd.read_csv('data/submission_format.csv', index_col='building_id')\n",
    "my_submission = pd.DataFrame(data=corr_pred,\n",
    "                             columns=submission_format.columns,\n",
    "                             index=submission_format.index)\n",
    "my_submission.head()"
   ]
  },
  {
   "cell_type": "code",
   "execution_count": 24,
   "metadata": {},
   "outputs": [],
   "source": [
    "my_submission.to_csv('submission-nn-3.csv')"
   ]
  },
  {
   "cell_type": "code",
   "execution_count": 25,
   "metadata": {},
   "outputs": [
    {
     "name": "stdout",
     "output_type": "stream",
     "text": [
      "building_id,damage_grade\r\n",
      "300051,3\r\n",
      "99355,2\r\n",
      "890251,3\r\n",
      "745817,2\r\n",
      "421793,3\r\n",
      "871976,3\r\n",
      "691228,2\r\n",
      "896100,3\r\n",
      "343471,2\r\n"
     ]
    }
   ],
   "source": [
    "!head submission-nn-3.csv"
   ]
  },
  {
   "cell_type": "code",
   "execution_count": 26,
   "metadata": {},
   "outputs": [],
   "source": [
    "# Result 0.68-0.7 ... bad one"
   ]
  },
  {
   "cell_type": "code",
   "execution_count": 34,
   "metadata": {
    "scrolled": true
   },
   "outputs": [
    {
     "name": "stdout",
     "output_type": "stream",
     "text": [
      "Requirement already satisfied: mlflow==1.3.0 in /home/bponiecki/anaconda3/lib/python3.7/site-packages (1.3.0)\n",
      "Requirement already satisfied: cloudpickle in /home/bponiecki/anaconda3/lib/python3.7/site-packages (from mlflow==1.3.0) (0.6.1)\n",
      "Requirement already satisfied: pandas in /home/bponiecki/anaconda3/lib/python3.7/site-packages (from mlflow==1.3.0) (0.23.4)\n",
      "Requirement already satisfied: entrypoints in /home/bponiecki/anaconda3/lib/python3.7/site-packages (from mlflow==1.3.0) (0.2.3)\n",
      "Requirement already satisfied: Flask in /home/bponiecki/anaconda3/lib/python3.7/site-packages (from mlflow==1.3.0) (1.0.2)\n",
      "Requirement already satisfied: querystring-parser in /home/bponiecki/anaconda3/lib/python3.7/site-packages (from mlflow==1.3.0) (1.2.4)\n",
      "Requirement already satisfied: sqlalchemy in /home/bponiecki/anaconda3/lib/python3.7/site-packages (from mlflow==1.3.0) (1.2.15)\n",
      "Requirement already satisfied: docker>=4.0.0 in /home/bponiecki/anaconda3/lib/python3.7/site-packages (from mlflow==1.3.0) (4.1.0)\n",
      "Requirement already satisfied: gorilla in /home/bponiecki/anaconda3/lib/python3.7/site-packages (from mlflow==1.3.0) (0.3.0)\n",
      "Requirement already satisfied: gunicorn; platform_system != \"Windows\" in /home/bponiecki/anaconda3/lib/python3.7/site-packages (from mlflow==1.3.0) (19.9.0)\n",
      "Requirement already satisfied: protobuf>=3.6.0 in /home/bponiecki/anaconda3/lib/python3.7/site-packages (from mlflow==1.3.0) (3.8.0)\n",
      "Requirement already satisfied: simplejson in /home/bponiecki/anaconda3/lib/python3.7/site-packages (from mlflow==1.3.0) (3.16.0)\n",
      "Requirement already satisfied: pyyaml in /home/bponiecki/anaconda3/lib/python3.7/site-packages (from mlflow==1.3.0) (3.13)\n",
      "Requirement already satisfied: requests>=2.17.3 in /home/bponiecki/anaconda3/lib/python3.7/site-packages (from mlflow==1.3.0) (2.21.0)\n",
      "Requirement already satisfied: sqlparse in /home/bponiecki/anaconda3/lib/python3.7/site-packages (from mlflow==1.3.0) (0.3.0)\n",
      "Requirement already satisfied: numpy in /home/bponiecki/anaconda3/lib/python3.7/site-packages (from mlflow==1.3.0) (1.15.4)\n",
      "Requirement already satisfied: alembic in /home/bponiecki/anaconda3/lib/python3.7/site-packages (from mlflow==1.3.0) (1.2.1)\n",
      "Requirement already satisfied: python-dateutil in /home/bponiecki/anaconda3/lib/python3.7/site-packages (from mlflow==1.3.0) (2.7.5)\n",
      "Requirement already satisfied: six>=1.10.0 in /home/bponiecki/anaconda3/lib/python3.7/site-packages (from mlflow==1.3.0) (1.12.0)\n",
      "Requirement already satisfied: databricks-cli>=0.8.7 in /home/bponiecki/anaconda3/lib/python3.7/site-packages (from mlflow==1.3.0) (0.9.0)\n",
      "Requirement already satisfied: click>=7.0 in /home/bponiecki/anaconda3/lib/python3.7/site-packages (from mlflow==1.3.0) (7.0)\n",
      "Requirement already satisfied: gitpython>=2.1.0 in /home/bponiecki/anaconda3/lib/python3.7/site-packages (from mlflow==1.3.0) (3.0.3)\n",
      "Requirement already satisfied: pytz>=2011k in /home/bponiecki/anaconda3/lib/python3.7/site-packages (from pandas->mlflow==1.3.0) (2018.7)\n",
      "Requirement already satisfied: itsdangerous>=0.24 in /home/bponiecki/anaconda3/lib/python3.7/site-packages (from Flask->mlflow==1.3.0) (1.1.0)\n",
      "Requirement already satisfied: Werkzeug>=0.14 in /home/bponiecki/anaconda3/lib/python3.7/site-packages (from Flask->mlflow==1.3.0) (0.14.1)\n",
      "Requirement already satisfied: Jinja2>=2.10 in /home/bponiecki/anaconda3/lib/python3.7/site-packages (from Flask->mlflow==1.3.0) (2.10)\n",
      "Requirement already satisfied: websocket-client>=0.32.0 in /home/bponiecki/anaconda3/lib/python3.7/site-packages (from docker>=4.0.0->mlflow==1.3.0) (0.56.0)\n",
      "Requirement already satisfied: setuptools in /home/bponiecki/anaconda3/lib/python3.7/site-packages (from protobuf>=3.6.0->mlflow==1.3.0) (40.6.3)\n",
      "Requirement already satisfied: chardet<3.1.0,>=3.0.2 in /home/bponiecki/anaconda3/lib/python3.7/site-packages (from requests>=2.17.3->mlflow==1.3.0) (3.0.4)\n",
      "Requirement already satisfied: urllib3<1.25,>=1.21.1 in /home/bponiecki/anaconda3/lib/python3.7/site-packages (from requests>=2.17.3->mlflow==1.3.0) (1.24.1)\n",
      "Requirement already satisfied: certifi>=2017.4.17 in /home/bponiecki/anaconda3/lib/python3.7/site-packages (from requests>=2.17.3->mlflow==1.3.0) (2018.11.29)\n",
      "Requirement already satisfied: idna<2.9,>=2.5 in /home/bponiecki/anaconda3/lib/python3.7/site-packages (from requests>=2.17.3->mlflow==1.3.0) (2.8)\n",
      "Requirement already satisfied: Mako in /home/bponiecki/anaconda3/lib/python3.7/site-packages (from alembic->mlflow==1.3.0) (1.1.0)\n",
      "Requirement already satisfied: python-editor>=0.3 in /home/bponiecki/anaconda3/lib/python3.7/site-packages (from alembic->mlflow==1.3.0) (1.0.4)\n",
      "Requirement already satisfied: tabulate>=0.7.7 in /home/bponiecki/anaconda3/lib/python3.7/site-packages (from databricks-cli>=0.8.7->mlflow==1.3.0) (0.8.3)\n",
      "Requirement already satisfied: configparser>=0.3.5 in /home/bponiecki/anaconda3/lib/python3.7/site-packages (from databricks-cli>=0.8.7->mlflow==1.3.0) (4.0.2)\n",
      "Requirement already satisfied: gitdb2>=2.0.0 in /home/bponiecki/anaconda3/lib/python3.7/site-packages (from gitpython>=2.1.0->mlflow==1.3.0) (2.0.6)\n",
      "Requirement already satisfied: MarkupSafe>=0.23 in /home/bponiecki/anaconda3/lib/python3.7/site-packages (from Jinja2>=2.10->Flask->mlflow==1.3.0) (1.1.0)\n",
      "Requirement already satisfied: smmap2>=2.0.0 in /home/bponiecki/anaconda3/lib/python3.7/site-packages (from gitdb2>=2.0.0->gitpython>=2.1.0->mlflow==1.3.0) (2.0.5)\n"
     ]
    }
   ],
   "source": [
    "!pip install mlflow==1.3.0\n",
    "from mlflow.keras import save_model\n",
    "import shutil\n",
    "model_dir = 'model'\n",
    "save_model(model, model_dir)\n",
    "zip_path = shutil.make_archive(model_dir, 'zip', model_dir)\n",
    "shutil.rmtree(model_dir)"
   ]
  }
 ],
 "metadata": {
  "kernelspec": {
   "display_name": "Python 3",
   "language": "python",
   "name": "python3"
  },
  "language_info": {
   "codemirror_mode": {
    "name": "ipython",
    "version": 3
   },
   "file_extension": ".py",
   "mimetype": "text/x-python",
   "name": "python",
   "nbconvert_exporter": "python",
   "pygments_lexer": "ipython3",
   "version": "3.7.1"
  }
 },
 "nbformat": 4,
 "nbformat_minor": 2
}
